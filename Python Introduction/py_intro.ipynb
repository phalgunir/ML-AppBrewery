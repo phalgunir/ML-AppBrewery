{
 "cells": [
  {
   "cell_type": "code",
   "execution_count": 1,
   "id": "01ece447",
   "metadata": {},
   "outputs": [],
   "source": [
    "import pandas"
   ]
  },
  {
   "cell_type": "code",
   "execution_count": 2,
   "id": "7294f4c8",
   "metadata": {},
   "outputs": [
    {
     "name": "stdout",
     "output_type": "stream",
     "text": [
      "   Time_Delay_in_Minutes  LSD_ppm  Avg_Math_Test_Score\n",
      "0                      5     1.17                78.93\n",
      "1                     15     2.97                58.20\n",
      "2                     30     3.26                67.47\n",
      "3                     60     4.69                37.47\n",
      "4                    120     5.83                45.65\n",
      "5                    240     6.00                32.92\n",
      "6                    480     6.41                29.97\n"
     ]
    }
   ],
   "source": [
    "data = pandas.read_csv('lsd_math_score_data.csv')\n",
    "print(data)"
   ]
  },
  {
   "cell_type": "code",
   "execution_count": 3,
   "id": "799a428c",
   "metadata": {},
   "outputs": [
    {
     "name": "stdout",
     "output_type": "stream",
     "text": [
      "   Time_Delay_in_Minutes  LSD_ppm  Avg_Math_Test_Score  High_Score\n",
      "0                      5     1.17                78.93         100\n",
      "1                     15     2.97                58.20         100\n",
      "2                     30     3.26                67.47         100\n",
      "3                     60     4.69                37.47         100\n",
      "4                    120     5.83                45.65         100\n",
      "5                    240     6.00                32.92         100\n",
      "6                    480     6.41                29.97         100\n"
     ]
    }
   ],
   "source": [
    "# add a new column\n",
    "data['High_Score'] = 100\n",
    "print(data)"
   ]
  },
  {
   "cell_type": "code",
   "execution_count": 4,
   "id": "166d0dbe",
   "metadata": {},
   "outputs": [
    {
     "name": "stdout",
     "output_type": "stream",
     "text": [
      "   Time_Delay_in_Minutes  LSD_ppm  Avg_Math_Test_Score  High_Score\n",
      "0                      5     1.17                78.93      178.93\n",
      "1                     15     2.97                58.20      158.20\n",
      "2                     30     3.26                67.47      167.47\n",
      "3                     60     4.69                37.47      137.47\n",
      "4                    120     5.83                45.65      145.65\n",
      "5                    240     6.00                32.92      132.92\n",
      "6                    480     6.41                29.97      129.97\n"
     ]
    }
   ],
   "source": [
    "# append a column\n",
    "data['High_Score'] = data['Avg_Math_Test_Score'] + 100\n",
    "print(data)"
   ]
  },
  {
   "cell_type": "code",
   "execution_count": 5,
   "id": "5dc4946d",
   "metadata": {
    "scrolled": true
   },
   "outputs": [
    {
     "name": "stdout",
     "output_type": "stream",
     "text": [
      "   Time_Delay_in_Minutes  LSD_ppm  Avg_Math_Test_Score  High_Score  \\\n",
      "0                      5     1.17                78.93      178.93   \n",
      "1                     15     2.97                58.20      158.20   \n",
      "2                     30     3.26                67.47      167.47   \n",
      "3                     60     4.69                37.47      137.47   \n",
      "4                    120     5.83                45.65      145.65   \n",
      "5                    240     6.00                32.92      132.92   \n",
      "6                    480     6.41                29.97      129.97   \n",
      "\n",
      "   High_Score_Squared  \n",
      "0          32015.9449  \n",
      "1          25027.2400  \n",
      "2          28046.2009  \n",
      "3          18898.0009  \n",
      "4          21213.9225  \n",
      "5          17667.7264  \n",
      "6          16892.2009  \n"
     ]
    }
   ],
   "source": [
    "# operations on columns\n",
    "data['High_Score_Squared'] = data['High_Score'] ** 2\n",
    "print(data)"
   ]
  },
  {
   "cell_type": "code",
   "execution_count": 6,
   "id": "8f0784e3",
   "metadata": {},
   "outputs": [
    {
     "name": "stdout",
     "output_type": "stream",
     "text": [
      "\n",
      "\n",
      "################################################\n",
      "one column DataFrame using DataFrame(): \n",
      "   Avg_Math_Test_Score\n",
      "0                78.93\n",
      "1                58.20\n",
      "2                67.47\n",
      "3                37.47\n",
      "4                45.65\n",
      "5                32.92\n",
      "6                29.97\n",
      "<class 'pandas.core.frame.DataFrame'>\n",
      "\n",
      "\n",
      "################################################\n",
      "one column Series by passing a string of the column name: \n",
      "0    78.93\n",
      "1    58.20\n",
      "2    67.47\n",
      "3    37.47\n",
      "4    45.65\n",
      "5    32.92\n",
      "6    29.97\n",
      "Name: Avg_Math_Test_Score, dtype: float64\n",
      "<class 'pandas.core.series.Series'>\n",
      "\n",
      "\n",
      "################################################\n",
      "one column DataFrame by passing a list of the column name: \n",
      "   Avg_Math_Test_Score\n",
      "0                78.93\n",
      "1                58.20\n",
      "2                67.47\n",
      "3                37.47\n",
      "4                45.65\n",
      "5                32.92\n",
      "6                29.97\n",
      "<class 'pandas.core.frame.DataFrame'>\n",
      "\n",
      "\n",
      "################################################\n",
      "multiple column DataFrame by passing a list of column names: \n",
      "   LSD_ppm  Avg_Math_Test_Score\n",
      "0     1.17                78.93\n",
      "1     2.97                58.20\n",
      "2     3.26                67.47\n",
      "3     4.69                37.47\n",
      "4     5.83                45.65\n",
      "5     6.00                32.92\n",
      "6     6.41                29.97\n",
      "<class 'pandas.core.frame.DataFrame'>\n"
     ]
    }
   ],
   "source": [
    "# create a subset of the DataFrame using only few columns\n",
    "\n",
    "print('\\n\\n################################################')\n",
    "print('one column DataFrame using DataFrame(): ')\n",
    "sub_dataframe_1 = pandas.DataFrame(data['Avg_Math_Test_Score'])\n",
    "print(sub_dataframe_1)\n",
    "print(type(sub_dataframe_1))\n",
    "\n",
    "print('\\n\\n################################################')\n",
    "print('one column Series by passing a string of the column name: ')\n",
    "sub_series = data['Avg_Math_Test_Score']\n",
    "print(sub_series)\n",
    "print(type(sub_series))\n",
    "\n",
    "print('\\n\\n################################################')\n",
    "print('one column DataFrame by passing a list of the column name: ')\n",
    "sub_dataframe_2 = data[['Avg_Math_Test_Score']]\n",
    "print(sub_dataframe_2)\n",
    "print(type(sub_dataframe_2))\n",
    "\n",
    "print('\\n\\n################################################')\n",
    "print('multiple column DataFrame by passing a list of column names: ')\n",
    "sub_dataframe_3 = data[['LSD_ppm', 'Avg_Math_Test_Score']]\n",
    "print(sub_dataframe_3)\n",
    "print(type(sub_dataframe_3))"
   ]
  },
  {
   "cell_type": "code",
   "execution_count": 7,
   "id": "4ab6e75a",
   "metadata": {},
   "outputs": [
    {
     "name": "stdout",
     "output_type": "stream",
     "text": [
      "   Time_Delay_in_Minutes  LSD_ppm  Avg_Math_Test_Score\n",
      "0                      5     1.17                78.93\n",
      "1                     15     2.97                58.20\n",
      "2                     30     3.26                67.47\n",
      "3                     60     4.69                37.47\n",
      "4                    120     5.83                45.65\n",
      "5                    240     6.00                32.92\n",
      "6                    480     6.41                29.97\n"
     ]
    }
   ],
   "source": [
    "# delete a column from a DataFrame\n",
    "del data['High_Score']\n",
    "del data['High_Score_Squared']\n",
    "print(data)"
   ]
  },
  {
   "cell_type": "code",
   "execution_count": null,
   "id": "37d241c1",
   "metadata": {},
   "outputs": [],
   "source": []
  }
 ],
 "metadata": {
  "kernelspec": {
   "display_name": "Python 3",
   "language": "python",
   "name": "python3"
  },
  "language_info": {
   "codemirror_mode": {
    "name": "ipython",
    "version": 3
   },
   "file_extension": ".py",
   "mimetype": "text/x-python",
   "name": "python",
   "nbconvert_exporter": "python",
   "pygments_lexer": "ipython3",
   "version": "3.8.8"
  }
 },
 "nbformat": 4,
 "nbformat_minor": 5
}
